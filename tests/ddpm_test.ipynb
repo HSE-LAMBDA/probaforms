{
 "cells": [
  {
   "cell_type": "code",
   "execution_count": 1,
   "id": "71523dd6",
   "metadata": {},
   "outputs": [],
   "source": [
    "import numpy as np\n",
    "import torch"
   ]
  },
  {
   "cell_type": "code",
   "execution_count": 2,
   "id": "7dff28aa",
   "metadata": {},
   "outputs": [],
   "source": [
    "def gen_data(bias=0, N=500):\n",
    "    X = np.linspace(bias, bias + 5, N).reshape(-1, 1)\n",
    "    mu = np.exp(-X + bias)\n",
    "    eps = np.random.normal(0, 1, X.shape)\n",
    "    sigma = 0.05 * (X - bias + 0.5)\n",
    "    return X, mu + eps * sigma"
   ]
  },
  {
   "cell_type": "code",
   "execution_count": 3,
   "id": "579bde3d",
   "metadata": {},
   "outputs": [],
   "source": [
    "X, y = gen_data(0, 500)\n",
    "X = torch.from_numpy(X).to(torch.float32)\n",
    "y = torch.from_numpy(y).to(torch.float32)"
   ]
  },
  {
   "cell_type": "code",
   "execution_count": 4,
   "id": "0441676f",
   "metadata": {},
   "outputs": [],
   "source": [
    "import sys\n",
    "import os\n",
    "\n",
    "cwd = os.getcwd()\n",
    "h, _ = os.path.split(cwd)\n",
    "\n",
    "sys.path.append(h)"
   ]
  },
  {
   "cell_type": "code",
   "execution_count": 5,
   "id": "4e249df0",
   "metadata": {},
   "outputs": [],
   "source": [
    "from probaforms.models import DDPMUnconditional\n",
    "from probaforms.models import DDPMConditional\n",
    "from probaforms.models import DiffusionMLP\n",
    "from probaforms.models import PlainBackboneResidual"
   ]
  },
  {
   "cell_type": "markdown",
   "id": "41a27765",
   "metadata": {},
   "source": [
    "## Conditional"
   ]
  },
  {
   "cell_type": "code",
   "execution_count": 6,
   "id": "5f53a111",
   "metadata": {},
   "outputs": [],
   "source": [
    "backbone_args_dict = {\n",
    "    'var_dim': 1,\n",
    "    'cond_dim': 8,\n",
    "    'hid_dim': 1024,\n",
    "    'num_blocks': 6,\n",
    "    'n_steps': 100,\n",
    "    'steps_dim': 512,\n",
    "    'steps_depth': 5,\n",
    "    'steps_out_dim': 8,\n",
    "}\n",
    "\n",
    "backbone = PlainBackboneResidual(**backbone_args_dict)"
   ]
  },
  {
   "cell_type": "code",
   "execution_count": 7,
   "id": "6185b477",
   "metadata": {},
   "outputs": [],
   "source": [
    "beta_grid = 'linear'\n",
    "betas = (1e-3, 1e-2) # min, max\n",
    "sigma_method = 'beta_wave' # or \"beta\"\n",
    "\n",
    "dmlp = DiffusionMLP(backbone, betas, beta_grid, sigma_method)\n",
    "dmlp = dmlp.to('cuda')"
   ]
  },
  {
   "cell_type": "code",
   "execution_count": 8,
   "id": "49af5c38",
   "metadata": {},
   "outputs": [
    {
     "name": "stderr",
     "output_type": "stream",
     "text": [
      "C:\\Users\\Oleg\\anaconda3\\envs\\probaforms\\lib\\site-packages\\torch\\nn\\modules\\lazy.py:180: UserWarning: Lazy modules are a new feature under heavy development so changes to the API or functionality can happen at any moment.\n",
      "  warnings.warn('Lazy modules are a new feature under heavy development '\n"
     ]
    }
   ],
   "source": [
    "start_lr = 1e-1\n",
    "final_lr = 1e-2\n",
    "n_epochs = 100\n",
    "sched_lambda = (final_lr / start_lr) ** (1 / n_epochs)\n",
    "\n",
    "optim = torch.optim.Adam(dmlp.parameters(), lr=start_lr, weight_decay=1e-5)\n",
    "sched = torch.optim.lr_scheduler.ExponentialLR(optim, sched_lambda)\n",
    "wrapper = DDPMConditional(dmlp, optim, n_epochs=n_epochs, batch_size=20, scheduler=None)"
   ]
  },
  {
   "cell_type": "code",
   "execution_count": 9,
   "id": "f7e6ab4a",
   "metadata": {},
   "outputs": [
    {
     "name": "stderr",
     "output_type": "stream",
     "text": [
      "Epoch: 100%|█████████████████████████████████████████████████████████████████████████| 100/100 [00:21<00:00,  4.70it/s]\n",
      "batch: 100%|█████████████████████████████████████████████████████████████████████████████| 1/1 [00:00<00:00,  2.07it/s]\n"
     ]
    }
   ],
   "source": [
    "_ = wrapper.fit(y, X)\n",
    "_ = wrapper.sample(X, batched=None).cpu()"
   ]
  },
  {
   "cell_type": "code",
   "execution_count": 10,
   "id": "77f6b0e5",
   "metadata": {},
   "outputs": [
    {
     "name": "stdout",
     "output_type": "stream",
     "text": [
      "Requirement already satisfied: torch in c:\\users\\oleg\\anaconda3\\envs\\probaforms\\lib\\site-packages (1.13.1+cu117)\n",
      "Requirement already satisfied: typing-extensions in c:\\users\\oleg\\anaconda3\\envs\\probaforms\\lib\\site-packages (from torch) (4.4.0)\n"
     ]
    },
    {
     "name": "stderr",
     "output_type": "stream",
     "text": [
      "WARNING: Retrying (Retry(total=4, connect=None, read=None, redirect=None, status=None)) after connection broken by 'NewConnectionError('<pip._vendor.urllib3.connection.HTTPSConnection object at 0x000002213751CA00>: Failed to establish a new connection: [Errno 11001] getaddrinfo failed')': /simple/torch/\n",
      "WARNING: Retrying (Retry(total=3, connect=None, read=None, redirect=None, status=None)) after connection broken by 'NewConnectionError('<pip._vendor.urllib3.connection.HTTPSConnection object at 0x000002213751CD00>: Failed to establish a new connection: [Errno 11001] getaddrinfo failed')': /simple/torch/\n",
      "WARNING: Retrying (Retry(total=2, connect=None, read=None, redirect=None, status=None)) after connection broken by 'NewConnectionError('<pip._vendor.urllib3.connection.HTTPSConnection object at 0x000002213751CEE0>: Failed to establish a new connection: [Errno 11001] getaddrinfo failed')': /simple/torch/\n",
      "WARNING: Retrying (Retry(total=1, connect=None, read=None, redirect=None, status=None)) after connection broken by 'NewConnectionError('<pip._vendor.urllib3.connection.HTTPSConnection object at 0x000002213751CFA0>: Failed to establish a new connection: [Errno 11001] getaddrinfo failed')': /simple/torch/\n",
      "WARNING: Retrying (Retry(total=0, connect=None, read=None, redirect=None, status=None)) after connection broken by 'NewConnectionError('<pip._vendor.urllib3.connection.HTTPSConnection object at 0x000002213754A250>: Failed to establish a new connection: [Errno 11001] getaddrinfo failed')': /simple/torch/\n"
     ]
    }
   ],
   "source": [
    "!pip install --upgrade torch"
   ]
  },
  {
   "cell_type": "markdown",
   "id": "c87bf309",
   "metadata": {},
   "source": [
    "# Unconditional"
   ]
  },
  {
   "cell_type": "code",
   "execution_count": 11,
   "id": "a19ddeb2",
   "metadata": {},
   "outputs": [],
   "source": [
    "backbone_args_dict = {\n",
    "    'var_dim': 2,\n",
    "    'cond_dim': None,\n",
    "    'hid_dim': 1024,\n",
    "    'num_blocks': 6,\n",
    "    'n_steps': 100,\n",
    "    'steps_dim': 512,\n",
    "    'steps_depth': 5,\n",
    "    'steps_out_dim': 8,\n",
    "}\n",
    "\n",
    "backbone = PlainBackboneResidual(**backbone_args_dict)"
   ]
  },
  {
   "cell_type": "code",
   "execution_count": 12,
   "id": "68ba0b87",
   "metadata": {},
   "outputs": [],
   "source": [
    "beta_grid = 'linear'\n",
    "betas = (1e-3, 1e-2) # min, max\n",
    "sigma_method = 'beta_wave' # or \"beta\"\n",
    "\n",
    "dmlp = DiffusionMLP(backbone, betas, beta_grid, sigma_method)\n",
    "dmlp = dmlp.to('cuda')"
   ]
  },
  {
   "cell_type": "code",
   "execution_count": 13,
   "id": "dc823225",
   "metadata": {},
   "outputs": [],
   "source": [
    "start_lr = 1e-1\n",
    "final_lr = 1e-2\n",
    "n_epochs = 100\n",
    "sched_lambda = (final_lr / start_lr) ** (1 / n_epochs)\n",
    "\n",
    "optim = torch.optim.Adam(dmlp.parameters(), lr=start_lr, weight_decay=1e-5)\n",
    "sched = torch.optim.lr_scheduler.ExponentialLR(optim, sched_lambda)\n",
    "wrapper = DDPMUnconditional(dmlp, optim, n_epochs=n_epochs, batch_size=20, scheduler=None)"
   ]
  },
  {
   "cell_type": "code",
   "execution_count": 14,
   "id": "13409732",
   "metadata": {},
   "outputs": [
    {
     "name": "stderr",
     "output_type": "stream",
     "text": [
      "Epoch: 100%|█████████████████████████████████████████████████████████████████████████| 100/100 [00:19<00:00,  5.20it/s]\n",
      "batch: 100%|█████████████████████████████████████████████████████████████████████████████| 1/1 [00:00<00:00,  2.11it/s]\n"
     ]
    }
   ],
   "source": [
    "data = torch.cat([X, y], dim=1)\n",
    "_ = wrapper.fit(data)\n",
    "_ = wrapper.sample(500).cpu()"
   ]
  }
 ],
 "metadata": {
  "kernelspec": {
   "display_name": "Python 3 (ipykernel)",
   "language": "python",
   "name": "python3"
  },
  "language_info": {
   "codemirror_mode": {
    "name": "ipython",
    "version": 3
   },
   "file_extension": ".py",
   "mimetype": "text/x-python",
   "name": "python",
   "nbconvert_exporter": "python",
   "pygments_lexer": "ipython3",
   "version": "3.9.13"
  },
  "toc": {
   "base_numbering": 1,
   "nav_menu": {},
   "number_sections": true,
   "sideBar": true,
   "skip_h1_title": false,
   "title_cell": "Table of Contents",
   "title_sidebar": "Contents",
   "toc_cell": false,
   "toc_position": {},
   "toc_section_display": true,
   "toc_window_display": false
  }
 },
 "nbformat": 4,
 "nbformat_minor": 5
}
