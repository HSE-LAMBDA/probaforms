{
 "cells": [
  {
   "cell_type": "code",
   "execution_count": 1,
   "id": "71523dd6",
   "metadata": {},
   "outputs": [],
   "source": [
    "import numpy as np\n",
    "import torch"
   ]
  },
  {
   "cell_type": "code",
   "execution_count": 2,
   "id": "7dff28aa",
   "metadata": {},
   "outputs": [],
   "source": [
    "def gen_data(bias=0, N=500):\n",
    "    X = np.linspace(bias, bias + 5, N).reshape(-1, 1)\n",
    "    mu = np.exp(-X + bias)\n",
    "    eps = np.random.normal(0, 1, X.shape)\n",
    "    sigma = 0.05 * (X - bias + 0.5)\n",
    "    return X, mu + eps * sigma"
   ]
  },
  {
   "cell_type": "code",
   "execution_count": 3,
   "id": "579bde3d",
   "metadata": {},
   "outputs": [],
   "source": [
    "X, y = gen_data(0, 500)\n",
    "X = torch.from_numpy(X).to(torch.float32)\n",
    "y = torch.from_numpy(y).to(torch.float32)"
   ]
  },
  {
   "cell_type": "code",
   "execution_count": 4,
   "id": "0441676f",
   "metadata": {},
   "outputs": [],
   "source": [
    "import sys\n",
    "import os\n",
    "\n",
    "cwd = os.getcwd()\n",
    "h, _ = os.path.split(cwd)\n",
    "\n",
    "sys.path.append(h)"
   ]
  },
  {
   "cell_type": "code",
   "execution_count": 5,
   "id": "4e249df0",
   "metadata": {},
   "outputs": [],
   "source": [
    "from probaforms.models import ResidualUnconditional\n",
    "from probaforms.models import ResidualConditional\n",
    "from probaforms.models import ResidualFlowModel"
   ]
  },
  {
   "cell_type": "markdown",
   "id": "41a27765",
   "metadata": {},
   "source": [
    "## Conditional"
   ]
  },
  {
   "cell_type": "code",
   "execution_count": 6,
   "id": "5f53a111",
   "metadata": {},
   "outputs": [],
   "source": [
    "flow_args_dict = {\n",
    "    'var_dim': 1,\n",
    "    'cond_dim': 1,\n",
    "    'hid_dim': 16,\n",
    "    'n_block_layers': 3,\n",
    "    'n_layers': 3,\n",
    "    'spnorm_coeff': 0.95,\n",
    "    'n_backward_iters': 100,\n",
    "}\n",
    "\n",
    "flow = ResidualFlowModel(**flow_args_dict)"
   ]
  },
  {
   "cell_type": "code",
   "execution_count": 7,
   "id": "49af5c38",
   "metadata": {},
   "outputs": [],
   "source": [
    "start_lr = 1e-1\n",
    "final_lr = 1e-2\n",
    "n_epochs = 100\n",
    "sched_lambda = (final_lr / start_lr) ** (1 / n_epochs)\n",
    "\n",
    "optim = torch.optim.Adam(flow.parameters(), lr=start_lr, weight_decay=1e-5)\n",
    "sched = torch.optim.lr_scheduler.ExponentialLR(optim, sched_lambda)\n",
    "wrapper = ResidualConditional(flow, optim, n_epochs=n_epochs, batch_size=100, scheduler=sched)"
   ]
  },
  {
   "cell_type": "code",
   "execution_count": 8,
   "id": "f7e6ab4a",
   "metadata": {},
   "outputs": [
    {
     "name": "stderr",
     "output_type": "stream",
     "text": [
      "Epoch: 100%|█████████████████████████████████████████████████████████████████████████| 100/100 [00:10<00:00,  9.43it/s]\n",
      "batch: 100%|█████████████████████████████████████████████████████████████████████████████| 1/1 [00:00<00:00,  9.73it/s]\n"
     ]
    }
   ],
   "source": [
    "_ = wrapper.fit(y, X)\n",
    "_ = wrapper.sample(X, batched=None).cpu()"
   ]
  },
  {
   "cell_type": "markdown",
   "id": "c87bf309",
   "metadata": {},
   "source": [
    "# Unconditional"
   ]
  },
  {
   "cell_type": "code",
   "execution_count": 9,
   "id": "a19ddeb2",
   "metadata": {},
   "outputs": [],
   "source": [
    "flow_args_dict = {\n",
    "    'var_dim': 2,\n",
    "    'cond_dim': None,\n",
    "    'hid_dim': 16,\n",
    "    'n_block_layers': 3,\n",
    "    'n_layers': 3,\n",
    "    'spnorm_coeff': 0.95,\n",
    "    'n_backward_iters': 100,\n",
    "}\n",
    "\n",
    "flow = ResidualFlowModel(**flow_args_dict)"
   ]
  },
  {
   "cell_type": "code",
   "execution_count": 10,
   "id": "dc823225",
   "metadata": {},
   "outputs": [],
   "source": [
    "start_lr = 1e-1\n",
    "final_lr = 1e-2\n",
    "n_epochs = 100\n",
    "sched_lambda = (final_lr / start_lr) ** (1 / n_epochs)\n",
    "\n",
    "optim = torch.optim.Adam(flow.parameters(), lr=start_lr, weight_decay=1e-5)\n",
    "sched = torch.optim.lr_scheduler.ExponentialLR(optim, sched_lambda)\n",
    "wrapper = ResidualUnconditional(flow, optim, n_epochs=n_epochs, batch_size=100, scheduler=sched)"
   ]
  },
  {
   "cell_type": "code",
   "execution_count": 11,
   "id": "13409732",
   "metadata": {},
   "outputs": [
    {
     "name": "stderr",
     "output_type": "stream",
     "text": [
      "Epoch: 100%|█████████████████████████████████████████████████████████████████████████| 100/100 [00:10<00:00,  9.72it/s]\n",
      "batch: 100%|█████████████████████████████████████████████████████████████████████████████| 1/1 [00:00<00:00,  6.11it/s]\n"
     ]
    }
   ],
   "source": [
    "data = torch.cat([X, y], dim=1)\n",
    "_ = wrapper.fit(data)\n",
    "_ = wrapper.sample(500).cpu()"
   ]
  }
 ],
 "metadata": {
  "kernelspec": {
   "display_name": "Python 3 (ipykernel)",
   "language": "python",
   "name": "python3"
  },
  "language_info": {
   "codemirror_mode": {
    "name": "ipython",
    "version": 3
   },
   "file_extension": ".py",
   "mimetype": "text/x-python",
   "name": "python",
   "nbconvert_exporter": "python",
   "pygments_lexer": "ipython3",
   "version": "3.9.13"
  },
  "toc": {
   "base_numbering": 1,
   "nav_menu": {},
   "number_sections": true,
   "sideBar": true,
   "skip_h1_title": false,
   "title_cell": "Table of Contents",
   "title_sidebar": "Contents",
   "toc_cell": false,
   "toc_position": {},
   "toc_section_display": true,
   "toc_window_display": false
  }
 },
 "nbformat": 4,
 "nbformat_minor": 5
}
